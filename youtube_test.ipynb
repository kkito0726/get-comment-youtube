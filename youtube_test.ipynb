{
 "cells": [
  {
   "cell_type": "code",
   "execution_count": 2,
   "metadata": {},
   "outputs": [
    {
     "name": "stdout",
     "output_type": "stream",
     "text": [
      "{'kind': 'youtube#searchResult', 'etag': 'R3KIexMvtCEiGqryLvf0hvBF2Xk', 'id': {'kind': 'youtube#video', 'videoId': 'HDzyVVfB3BA'}, 'snippet': {'publishedAt': '2019-04-17T13:05:26Z', 'channelId': 'UC1l8jsqYmIj1bjCzN43UPfA', 'title': '今日動画撮る時間なかったですごめんなさい\\u3000パンケーキ', 'description': '実写→https://www.youtube.com/channel/UCV73oY5j3_nOiMyIgLQDc-w Twitter→http://twitter.com/shussyussyu.', 'thumbnails': {'default': {'url': 'https://i.ytimg.com/vi/HDzyVVfB3BA/default.jpg', 'width': 120, 'height': 90}, 'medium': {'url': 'https://i.ytimg.com/vi/HDzyVVfB3BA/mqdefault.jpg', 'width': 320, 'height': 180}, 'high': {'url': 'https://i.ytimg.com/vi/HDzyVVfB3BA/hqdefault.jpg', 'width': 480, 'height': 360}}, 'channelTitle': 'しゅうゲームズ', 'liveBroadcastContent': 'none', 'publishTime': '2019-04-17T13:05:26Z'}}\n"
     ]
    }
   ],
   "source": [
    "from youtube import Youtube\n",
    "\n",
    "syu = Youtube(\"UC1l8jsqYmIj1bjCzN43UPfA\")\n",
    "print(syu.videos[\"items\"][0])"
   ]
  },
  {
   "cell_type": "code",
   "execution_count": 18,
   "metadata": {},
   "outputs": [],
   "source": [
    "items = syu.videos['items']\n",
    "items[0]\n",
    "titles = [item['snippet']['title'] for item in items]\n",
    "videoIds = [item['id']['videoId'] for item in items]\n",
    "publish_time = [item['snippet']['publishTime'] for item in items]\n",
    "thumbnails = [item['snippet']['thumbnails']['high']['url'] for item in items]"
   ]
  },
  {
   "cell_type": "code",
   "execution_count": 8,
   "metadata": {},
   "outputs": [
    {
     "data": {
      "text/plain": [
       "{'kind': 'youtube#searchResult',\n",
       " 'etag': 'R3KIexMvtCEiGqryLvf0hvBF2Xk',\n",
       " 'id': {'kind': 'youtube#video', 'videoId': 'HDzyVVfB3BA'},\n",
       " 'snippet': {'publishedAt': '2019-04-17T13:05:26Z',\n",
       "  'channelId': 'UC1l8jsqYmIj1bjCzN43UPfA',\n",
       "  'title': '今日動画撮る時間なかったですごめんなさい\\u3000パンケーキ',\n",
       "  'description': '実写→https://www.youtube.com/channel/UCV73oY5j3_nOiMyIgLQDc-w Twitter→http://twitter.com/shussyussyu.',\n",
       "  'thumbnails': {'default': {'url': 'https://i.ytimg.com/vi/HDzyVVfB3BA/default.jpg',\n",
       "    'width': 120,\n",
       "    'height': 90},\n",
       "   'medium': {'url': 'https://i.ytimg.com/vi/HDzyVVfB3BA/mqdefault.jpg',\n",
       "    'width': 320,\n",
       "    'height': 180},\n",
       "   'high': {'url': 'https://i.ytimg.com/vi/HDzyVVfB3BA/hqdefault.jpg',\n",
       "    'width': 480,\n",
       "    'height': 360}},\n",
       "  'channelTitle': 'しゅうゲームズ',\n",
       "  'liveBroadcastContent': 'none',\n",
       "  'publishTime': '2019-04-17T13:05:26Z'}}"
      ]
     },
     "execution_count": 8,
     "metadata": {},
     "output_type": "execute_result"
    }
   ],
   "source": [
    "items[0]"
   ]
  },
  {
   "cell_type": "code",
   "execution_count": 16,
   "metadata": {},
   "outputs": [
    {
     "data": {
      "text/plain": [
       "['https://i.ytimg.com/vi/HDzyVVfB3BA/hqdefault.jpg',\n",
       " 'https://i.ytimg.com/vi/zDNSH6SHW0E/hqdefault.jpg',\n",
       " 'https://i.ytimg.com/vi/8TynOEjHmvI/hqdefault.jpg',\n",
       " 'https://i.ytimg.com/vi/UtIGrMyD3x0/hqdefault.jpg',\n",
       " 'https://i.ytimg.com/vi/78hl-0mdU8c/hqdefault.jpg',\n",
       " 'https://i.ytimg.com/vi/CNbLxJe32hs/hqdefault.jpg',\n",
       " 'https://i.ytimg.com/vi/O18g5d1ejdY/hqdefault.jpg',\n",
       " 'https://i.ytimg.com/vi/_DJXBiUClqA/hqdefault.jpg',\n",
       " 'https://i.ytimg.com/vi/2QyEViRwJos/hqdefault.jpg',\n",
       " 'https://i.ytimg.com/vi/EALgZ57PLOI/hqdefault.jpg',\n",
       " 'https://i.ytimg.com/vi/8DMHE4iBFcc/hqdefault.jpg',\n",
       " 'https://i.ytimg.com/vi/3rpfNLLXR4I/hqdefault.jpg',\n",
       " 'https://i.ytimg.com/vi/naof6TuVIN8/hqdefault.jpg',\n",
       " 'https://i.ytimg.com/vi/hqAITFCLnDU/hqdefault.jpg',\n",
       " 'https://i.ytimg.com/vi/Dla65QT3CDw/hqdefault.jpg',\n",
       " 'https://i.ytimg.com/vi/h5L8UCugxvI/hqdefault.jpg',\n",
       " 'https://i.ytimg.com/vi/6IP7VT00ujM/hqdefault.jpg',\n",
       " 'https://i.ytimg.com/vi/VUcnxH51sXE/hqdefault.jpg',\n",
       " 'https://i.ytimg.com/vi/YaCvHtc88I4/hqdefault.jpg',\n",
       " 'https://i.ytimg.com/vi/Ov3EODPMQBc/hqdefault.jpg',\n",
       " 'https://i.ytimg.com/vi/f8wxUc6KulA/hqdefault.jpg',\n",
       " 'https://i.ytimg.com/vi/FMkcrjucmH0/hqdefault.jpg',\n",
       " 'https://i.ytimg.com/vi/vdXL9UfpSe8/hqdefault.jpg',\n",
       " 'https://i.ytimg.com/vi/4f78hZS-yH8/hqdefault.jpg',\n",
       " 'https://i.ytimg.com/vi/PBAbzPj9-k8/hqdefault.jpg',\n",
       " 'https://i.ytimg.com/vi/Nr6ew_TSbCg/hqdefault.jpg',\n",
       " 'https://i.ytimg.com/vi/Gc7vYydMgCY/hqdefault.jpg',\n",
       " 'https://i.ytimg.com/vi/GEwCqlkTeo0/hqdefault.jpg',\n",
       " 'https://i.ytimg.com/vi/wr5EUpZD-zM/hqdefault.jpg',\n",
       " 'https://i.ytimg.com/vi/UMf-AIBTvGE/hqdefault.jpg',\n",
       " 'https://i.ytimg.com/vi/u2z6U6bIrac/hqdefault.jpg',\n",
       " 'https://i.ytimg.com/vi/gkK3AGlcMog/hqdefault.jpg',\n",
       " 'https://i.ytimg.com/vi/ssXk3cD7PMQ/hqdefault.jpg',\n",
       " 'https://i.ytimg.com/vi/TnRR1iBCpoc/hqdefault.jpg',\n",
       " 'https://i.ytimg.com/vi/3jEyGOCqQGM/hqdefault.jpg',\n",
       " 'https://i.ytimg.com/vi/Ie4MjHCTpeI/hqdefault.jpg',\n",
       " 'https://i.ytimg.com/vi/UkDXMLxW9G4/hqdefault.jpg',\n",
       " 'https://i.ytimg.com/vi/FNDytgeTloo/hqdefault.jpg',\n",
       " 'https://i.ytimg.com/vi/allOQYlRAPk/hqdefault.jpg',\n",
       " 'https://i.ytimg.com/vi/p59y1jRI0Cs/hqdefault.jpg',\n",
       " 'https://i.ytimg.com/vi/rL65lXBEPm8/hqdefault.jpg',\n",
       " 'https://i.ytimg.com/vi/EOS95OgQ7Z4/hqdefault.jpg',\n",
       " 'https://i.ytimg.com/vi/PAt6F0Cmous/hqdefault.jpg',\n",
       " 'https://i.ytimg.com/vi/voBh_6osapE/hqdefault.jpg',\n",
       " 'https://i.ytimg.com/vi/LMzs97V1klg/hqdefault.jpg',\n",
       " 'https://i.ytimg.com/vi/2mC2hCYtK48/hqdefault.jpg',\n",
       " 'https://i.ytimg.com/vi/JDWIh3jteo0/hqdefault.jpg',\n",
       " 'https://i.ytimg.com/vi/K6u9sIDOz0M/hqdefault.jpg',\n",
       " 'https://i.ytimg.com/vi/GPYss7TpVpY/hqdefault.jpg',\n",
       " 'https://i.ytimg.com/vi/rDt9nZqQbK8/hqdefault.jpg']"
      ]
     },
     "execution_count": 16,
     "metadata": {},
     "output_type": "execute_result"
    }
   ],
   "source": [
    "thumbnails"
   ]
  },
  {
   "cell_type": "code",
   "execution_count": 15,
   "metadata": {},
   "outputs": [
    {
     "data": {
      "text/plain": [
       "['今日動画撮る時間なかったですごめんなさい\\u3000パンケーキ',\n",
       " '久しぶりに焼肉行ってきた',\n",
       " '昨日の動画の物議を醸し出した件について',\n",
       " 'ありえな',\n",
       " 'この2人が強すぎてやばい',\n",
       " 'スプラ3開始早々まじありえないんだけど',\n",
       " '勝ちすぎてやばいです\\u3000テニス',\n",
       " '俺ら三兄弟に勝てるやついる？',\n",
       " '99%の人が間違える問題',\n",
       " '孫がばあちゃんを倒すゲームが面白すぎる',\n",
       " 'Youtube史上最も再生された棒人間',\n",
       " 'これが令和最新のステージ\\u3000fall guys',\n",
       " 'ガチですごいコースやってみた',\n",
       " '孫とおばあちゃんが戦うゲームが面白すぎる',\n",
       " '世界で大流行した爆笑ゲーム【冷蔵庫のプリン食べられた】',\n",
       " 'みんなで大乱闘！',\n",
       " '新コースで俺に勝てる人いる？',\n",
       " 'なんでもありのテニスがとんでもなさすぎる',\n",
       " '第1回\\u30002億円杯',\n",
       " 'マリオのサッカーのゲームがなんでもありすぎる',\n",
       " 'ぶつかり合う覇王色！  猛者同士の闘い！',\n",
       " 'マリオカート新コースが面白すぎる！！',\n",
       " 'ハゲの状態で髪切るとどうなるの？',\n",
       " '8周年',\n",
       " '絶対に笑ってはいけない2021年',\n",
       " 'えっ？？？',\n",
       " 'メテオ決まると思うじゃん',\n",
       " '視聴者っちとマリオカートしてみた',\n",
       " '止まらない。',\n",
       " 'ガチのしゅうさんに出会った',\n",
       " 'ゴッドハイバーウキウキパズル\\u3000パズドラ',\n",
       " 'こんなに狙われることある？',\n",
       " 'VIIPに行けないピカチュウをコーチングしてみた！',\n",
       " 'どっちがモテる？ 怖そうな人と優しそうな人！',\n",
       " 'どうよける？',\n",
       " 'めちゃめちゃ苦手なゲームやってみたら感動のラストが！',\n",
       " '何故がみんなオウンゴールしてしまう\\u3000サッカー',\n",
       " '4人チーム。',\n",
       " '珍しい試合',\n",
       " 'アイスを賭けた試合が面白すぎる',\n",
       " 'ドンキー史上最も再生されたパンチ',\n",
       " '最強の2人に出会った',\n",
       " 'ワン！',\n",
       " 'これどっちが勝つ？',\n",
       " 'キラーでカエルに突っ込んでみた',\n",
       " 'カービィ  どうしちまったんだよ',\n",
       " '俺より強いやつに会いに行く\\u3000第二回\\u3000パズドラ',\n",
       " 'アンチ登場',\n",
       " '俺に勝てる奴いる？',\n",
       " 'まさかの展開！']"
      ]
     },
     "execution_count": 15,
     "metadata": {},
     "output_type": "execute_result"
    }
   ],
   "source": [
    "titles"
   ]
  },
  {
   "cell_type": "code",
   "execution_count": 19,
   "metadata": {},
   "outputs": [
    {
     "data": {
      "text/plain": [
       "['2019-04-17T13:05:26Z',\n",
       " '2022-06-15T10:14:01Z',\n",
       " '2022-01-17T11:30:02Z',\n",
       " '2023-01-13T09:19:20Z',\n",
       " '2022-05-24T09:39:25Z',\n",
       " '2022-09-08T15:12:17Z',\n",
       " '2022-05-06T13:01:11Z',\n",
       " '2021-09-05T12:20:47Z',\n",
       " '2021-12-04T08:30:01Z',\n",
       " '2022-01-19T09:30:04Z',\n",
       " '2021-09-29T11:24:32Z',\n",
       " '2022-07-08T09:30:01Z',\n",
       " '2022-01-06T13:04:20Z',\n",
       " '2021-11-02T09:59:01Z',\n",
       " '2022-04-21T09:55:32Z',\n",
       " '2022-05-12T13:43:36Z',\n",
       " '2022-03-29T11:32:19Z',\n",
       " '2022-03-24T10:43:27Z',\n",
       " '2022-01-16T12:36:22Z',\n",
       " '2022-06-04T12:10:35Z',\n",
       " '2022-04-10T09:38:14Z',\n",
       " '2022-03-23T10:20:35Z',\n",
       " '2021-11-04T10:05:53Z',\n",
       " '2022-04-24T13:42:01Z',\n",
       " '2021-12-20T11:11:16Z',\n",
       " '2022-03-06T12:02:31Z',\n",
       " '2022-02-08T11:15:46Z',\n",
       " '2021-11-30T13:56:11Z',\n",
       " '2022-06-22T14:17:29Z',\n",
       " '2021-08-03T14:42:54Z',\n",
       " '2022-11-30T14:28:21Z',\n",
       " '2022-02-07T11:23:32Z',\n",
       " '2022-05-31T12:30:59Z',\n",
       " '2022-06-11T13:07:44Z',\n",
       " '2021-12-09T08:45:01Z',\n",
       " '2021-07-08T10:02:43Z',\n",
       " '2022-05-19T14:00:53Z',\n",
       " '2022-07-01T12:31:35Z',\n",
       " '2022-11-13T17:18:35Z',\n",
       " '2022-04-16T12:57:14Z',\n",
       " '2022-04-03T11:07:38Z',\n",
       " '2022-04-14T11:09:45Z',\n",
       " '2022-07-22T11:42:59Z',\n",
       " '2022-03-21T10:48:46Z',\n",
       " '2022-06-19T11:16:14Z',\n",
       " '2021-10-13T10:09:47Z',\n",
       " '2022-02-07T13:29:56Z',\n",
       " '2021-11-17T11:36:42Z',\n",
       " '2022-05-21T11:45:24Z',\n",
       " '2021-02-28T11:28:56Z']"
      ]
     },
     "execution_count": 19,
     "metadata": {},
     "output_type": "execute_result"
    }
   ],
   "source": [
    "publish_time"
   ]
  },
  {
   "cell_type": "code",
   "execution_count": null,
   "metadata": {},
   "outputs": [],
   "source": []
  }
 ],
 "metadata": {
  "kernelspec": {
   "display_name": "virt",
   "language": "python",
   "name": "python3"
  },
  "language_info": {
   "codemirror_mode": {
    "name": "ipython",
    "version": 3
   },
   "file_extension": ".py",
   "mimetype": "text/x-python",
   "name": "python",
   "nbconvert_exporter": "python",
   "pygments_lexer": "ipython3",
   "version": "3.9.7"
  },
  "orig_nbformat": 4,
  "vscode": {
   "interpreter": {
    "hash": "a6bc690121b3a86328b1002baaf878d2d2d5b44632b03c3ef232baec177f90fb"
   }
  }
 },
 "nbformat": 4,
 "nbformat_minor": 2
}
